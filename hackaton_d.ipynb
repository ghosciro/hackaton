{
 "cells": [
  {
   "attachments": {},
   "cell_type": "markdown",
   "metadata": {},
   "source": [
    "# HACKATON \n",
    "## Importing libraries"
   ]
  },
  {
   "cell_type": "code",
   "execution_count": 228,
   "metadata": {},
   "outputs": [],
   "source": [
    "import pandas as pd\n",
    "import numpy as np\n",
    "from  sklearn.metrics  import multilabel_confusion_matrix, f1_score\n",
    "import matplotlib.pyplot as plt\n",
    "import tensorflow as tf\n"
   ]
  },
  {
   "attachments": {},
   "cell_type": "markdown",
   "metadata": {},
   "source": [
    "## PREPROCESSING\n",
    "the first step is importing data "
   ]
  },
  {
   "cell_type": "code",
   "execution_count": 229,
   "metadata": {},
   "outputs": [
    {
     "data": {
      "text/html": [
       "<div>\n",
       "<style scoped>\n",
       "    .dataframe tbody tr th:only-of-type {\n",
       "        vertical-align: middle;\n",
       "    }\n",
       "\n",
       "    .dataframe tbody tr th {\n",
       "        vertical-align: top;\n",
       "    }\n",
       "\n",
       "    .dataframe thead th {\n",
       "        text-align: right;\n",
       "    }\n",
       "</style>\n",
       "<table border=\"1\" class=\"dataframe\">\n",
       "  <thead>\n",
       "    <tr style=\"text-align: right;\">\n",
       "      <th></th>\n",
       "      <th>Job_offer</th>\n",
       "      <th>Label</th>\n",
       "    </tr>\n",
       "  </thead>\n",
       "  <tbody>\n",
       "    <tr>\n",
       "      <th>0</th>\n",
       "      <td>Openjobmetis SpA ricerca, per importante azien...</td>\n",
       "      <td>Java Developer</td>\n",
       "    </tr>\n",
       "    <tr>\n",
       "      <th>1</th>\n",
       "      <td>La persona prescelta, diplomata o laureata in ...</td>\n",
       "      <td>Software Engineer</td>\n",
       "    </tr>\n",
       "    <tr>\n",
       "      <th>2</th>\n",
       "      <td>Sei un informatico o matematico con la passion...</td>\n",
       "      <td>Software Engineer</td>\n",
       "    </tr>\n",
       "    <tr>\n",
       "      <th>3</th>\n",
       "      <td>Ti occuperai della progettazione, realizzazion...</td>\n",
       "      <td>Programmer</td>\n",
       "    </tr>\n",
       "    <tr>\n",
       "      <th>4</th>\n",
       "      <td>Stiamo cercando uno\\una sviluppatore\\sviluppat...</td>\n",
       "      <td>Programmer</td>\n",
       "    </tr>\n",
       "  </tbody>\n",
       "</table>\n",
       "</div>"
      ],
      "text/plain": [
       "                                           Job_offer              Label\n",
       "0  Openjobmetis SpA ricerca, per importante azien...     Java Developer\n",
       "1  La persona prescelta, diplomata o laureata in ...  Software Engineer\n",
       "2  Sei un informatico o matematico con la passion...  Software Engineer\n",
       "3  Ti occuperai della progettazione, realizzazion...         Programmer\n",
       "4  Stiamo cercando uno\\una sviluppatore\\sviluppat...         Programmer"
      ]
     },
     "execution_count": 229,
     "metadata": {},
     "output_type": "execute_result"
    }
   ],
   "source": [
    "#Importing the dataset using pandas\n",
    "dataset=pd.read_csv('train_set.csv')\n",
    "dataset.head()"
   ]
  },
  {
   "attachments": {},
   "cell_type": "markdown",
   "metadata": {},
   "source": [
    "add 5 columns to the dataset to convert the label in one hot encoding"
   ]
  },
  {
   "cell_type": "code",
   "execution_count": 230,
   "metadata": {},
   "outputs": [
    {
     "data": {
      "text/html": [
       "<div>\n",
       "<style scoped>\n",
       "    .dataframe tbody tr th:only-of-type {\n",
       "        vertical-align: middle;\n",
       "    }\n",
       "\n",
       "    .dataframe tbody tr th {\n",
       "        vertical-align: top;\n",
       "    }\n",
       "\n",
       "    .dataframe thead th {\n",
       "        text-align: right;\n",
       "    }\n",
       "</style>\n",
       "<table border=\"1\" class=\"dataframe\">\n",
       "  <thead>\n",
       "    <tr style=\"text-align: right;\">\n",
       "      <th></th>\n",
       "      <th>Job_offer</th>\n",
       "      <th>Label</th>\n",
       "      <th>Java Developer</th>\n",
       "      <th>Software Engineer</th>\n",
       "      <th>Programmer</th>\n",
       "      <th>Web Developer</th>\n",
       "      <th>System Analyst</th>\n",
       "    </tr>\n",
       "  </thead>\n",
       "  <tbody>\n",
       "    <tr>\n",
       "      <th>0</th>\n",
       "      <td>Openjobmetis SpA ricerca, per importante azien...</td>\n",
       "      <td>Java Developer</td>\n",
       "      <td>1</td>\n",
       "      <td>0</td>\n",
       "      <td>0</td>\n",
       "      <td>0</td>\n",
       "      <td>0</td>\n",
       "    </tr>\n",
       "    <tr>\n",
       "      <th>1</th>\n",
       "      <td>La persona prescelta, diplomata o laureata in ...</td>\n",
       "      <td>Software Engineer</td>\n",
       "      <td>0</td>\n",
       "      <td>1</td>\n",
       "      <td>0</td>\n",
       "      <td>0</td>\n",
       "      <td>0</td>\n",
       "    </tr>\n",
       "    <tr>\n",
       "      <th>2</th>\n",
       "      <td>Sei un informatico o matematico con la passion...</td>\n",
       "      <td>Software Engineer</td>\n",
       "      <td>0</td>\n",
       "      <td>1</td>\n",
       "      <td>0</td>\n",
       "      <td>0</td>\n",
       "      <td>0</td>\n",
       "    </tr>\n",
       "    <tr>\n",
       "      <th>3</th>\n",
       "      <td>Ti occuperai della progettazione, realizzazion...</td>\n",
       "      <td>Programmer</td>\n",
       "      <td>0</td>\n",
       "      <td>0</td>\n",
       "      <td>1</td>\n",
       "      <td>0</td>\n",
       "      <td>0</td>\n",
       "    </tr>\n",
       "    <tr>\n",
       "      <th>4</th>\n",
       "      <td>Stiamo cercando uno\\una sviluppatore\\sviluppat...</td>\n",
       "      <td>Programmer</td>\n",
       "      <td>0</td>\n",
       "      <td>0</td>\n",
       "      <td>1</td>\n",
       "      <td>0</td>\n",
       "      <td>0</td>\n",
       "    </tr>\n",
       "    <tr>\n",
       "      <th>...</th>\n",
       "      <td>...</td>\n",
       "      <td>...</td>\n",
       "      <td>...</td>\n",
       "      <td>...</td>\n",
       "      <td>...</td>\n",
       "      <td>...</td>\n",
       "      <td>...</td>\n",
       "    </tr>\n",
       "    <tr>\n",
       "      <th>1747</th>\n",
       "      <td>* Test JUnit\\n     * Git, La Ibs Srl è alla ri...</td>\n",
       "      <td>Java Developer</td>\n",
       "      <td>1</td>\n",
       "      <td>0</td>\n",
       "      <td>0</td>\n",
       "      <td>0</td>\n",
       "      <td>0</td>\n",
       "    </tr>\n",
       "    <tr>\n",
       "      <th>1748</th>\n",
       "      <td>La ricorsa, inserita all'interno di un team, l...</td>\n",
       "      <td>Programmer</td>\n",
       "      <td>0</td>\n",
       "      <td>0</td>\n",
       "      <td>1</td>\n",
       "      <td>0</td>\n",
       "      <td>0</td>\n",
       "    </tr>\n",
       "    <tr>\n",
       "      <th>1749</th>\n",
       "      <td>Sviluppatore Java Junior da inserire in attivi...</td>\n",
       "      <td>Java Developer</td>\n",
       "      <td>1</td>\n",
       "      <td>0</td>\n",
       "      <td>0</td>\n",
       "      <td>0</td>\n",
       "      <td>0</td>\n",
       "    </tr>\n",
       "    <tr>\n",
       "      <th>1750</th>\n",
       "      <td>La risorsa sarà inserita nei team di risorse d...</td>\n",
       "      <td>Web Developer</td>\n",
       "      <td>0</td>\n",
       "      <td>0</td>\n",
       "      <td>0</td>\n",
       "      <td>1</td>\n",
       "      <td>0</td>\n",
       "    </tr>\n",
       "    <tr>\n",
       "      <th>1751</th>\n",
       "      <td>Job summary Parola chiave: digitalizzazione! U...</td>\n",
       "      <td>Web Developer</td>\n",
       "      <td>0</td>\n",
       "      <td>0</td>\n",
       "      <td>0</td>\n",
       "      <td>1</td>\n",
       "      <td>0</td>\n",
       "    </tr>\n",
       "  </tbody>\n",
       "</table>\n",
       "<p>1752 rows × 7 columns</p>\n",
       "</div>"
      ],
      "text/plain": [
       "                                              Job_offer              Label  \\\n",
       "0     Openjobmetis SpA ricerca, per importante azien...     Java Developer   \n",
       "1     La persona prescelta, diplomata o laureata in ...  Software Engineer   \n",
       "2     Sei un informatico o matematico con la passion...  Software Engineer   \n",
       "3     Ti occuperai della progettazione, realizzazion...         Programmer   \n",
       "4     Stiamo cercando uno\\una sviluppatore\\sviluppat...         Programmer   \n",
       "...                                                 ...                ...   \n",
       "1747  * Test JUnit\\n     * Git, La Ibs Srl è alla ri...     Java Developer   \n",
       "1748  La ricorsa, inserita all'interno di un team, l...         Programmer   \n",
       "1749  Sviluppatore Java Junior da inserire in attivi...     Java Developer   \n",
       "1750  La risorsa sarà inserita nei team di risorse d...      Web Developer   \n",
       "1751  Job summary Parola chiave: digitalizzazione! U...      Web Developer   \n",
       "\n",
       "      Java Developer  Software Engineer  Programmer  Web Developer  \\\n",
       "0                  1                  0           0              0   \n",
       "1                  0                  1           0              0   \n",
       "2                  0                  1           0              0   \n",
       "3                  0                  0           1              0   \n",
       "4                  0                  0           1              0   \n",
       "...              ...                ...         ...            ...   \n",
       "1747               1                  0           0              0   \n",
       "1748               0                  0           1              0   \n",
       "1749               1                  0           0              0   \n",
       "1750               0                  0           0              1   \n",
       "1751               0                  0           0              1   \n",
       "\n",
       "      System Analyst  \n",
       "0                  0  \n",
       "1                  0  \n",
       "2                  0  \n",
       "3                  0  \n",
       "4                  0  \n",
       "...              ...  \n",
       "1747               0  \n",
       "1748               0  \n",
       "1749               0  \n",
       "1750               0  \n",
       "1751               0  \n",
       "\n",
       "[1752 rows x 7 columns]"
      ]
     },
     "execution_count": 230,
     "metadata": {},
     "output_type": "execute_result"
    }
   ],
   "source": [
    "\n",
    "label_dictionary={'Java Developer':0,'Software Engineer':1,'Programmer':2,'Web Developer':3,'System Analyst':4}\n",
    "\n",
    "dataset['Java Developer']=0\n",
    "dataset['Software Engineer']=0\n",
    "dataset['Programmer']=0\n",
    "dataset['Web Developer']=0\n",
    "dataset['System Analyst']=0\n",
    "for i in range(len(dataset)):\n",
    "    dataset.iloc[i,dataset.columns.get_loc(dataset['Label'][i])]=1\n",
    "dataset "
   ]
  },
  {
   "attachments": {},
   "cell_type": "markdown",
   "metadata": {},
   "source": [
    "Divide the dataset in Label and Features"
   ]
  },
  {
   "cell_type": "code",
   "execution_count": 231,
   "metadata": {},
   "outputs": [
    {
     "name": "stdout",
     "output_type": "stream",
     "text": [
      "(1752,) (1752, 5)\n"
     ]
    }
   ],
   "source": [
    "X=np.array(dataset[[\"Job_offer\"]])\n",
    "X=X.reshape(X.shape[0],)\n",
    "Y=np.array(dataset[[\"Java Developer\",\"Software Engineer\",\"Programmer\",\"Web Developer\",\"System Analyst\"]])\n",
    "print(X.shape,Y.shape)"
   ]
  },
  {
   "attachments": {},
   "cell_type": "markdown",
   "metadata": {},
   "source": [
    "we use the Tokenizer function of Tensorflow to convert the text in a sequence of numbers"
   ]
  },
  {
   "cell_type": "code",
   "execution_count": 232,
   "metadata": {},
   "outputs": [],
   "source": [
    "tokenizer=tf.keras.preprocessing.text.Tokenizer(filters='!+#\"$%&()*,-./:;<=>?@[\\]^_`{|}~\\t\\n')\n",
    "tokenizer.fit_on_texts(X)\n",
    "X=tokenizer.texts_to_sequences(X)\n",
    "\n"
   ]
  },
  {
   "attachments": {},
   "cell_type": "markdown",
   "metadata": {},
   "source": [
    "we use the pad_sequence function of Tensorflow to bring all the sequences to the same length"
   ]
  },
  {
   "cell_type": "code",
   "execution_count": 233,
   "metadata": {},
   "outputs": [
    {
     "name": "stdout",
     "output_type": "stream",
     "text": [
      "(1752, 105) 105\n"
     ]
    }
   ],
   "source": [
    "mean_length=int(np.mean([len(x) for x in X]))\n",
    "X_pad=tf.keras.preprocessing.sequence.pad_sequences(X,maxlen=mean_length,padding='post')\n",
    "print(X_pad.shape,mean_length)"
   ]
  },
  {
   "attachments": {},
   "cell_type": "markdown",
   "metadata": {},
   "source": [
    "## MODEL BUILDING\n",
    "we use the Sequential function of Tensorflow to build the model. We add 3 layers to the model:\n",
    "- **Dense Layer** with a number of neurons corresponding to the number of words in the vocabulary\n",
    "- **Dropout Layer** to avoid overfitting\n",
    "- **Dense Layer** with a number of neurons corresponding to the number of labels"
   ]
  },
  {
   "cell_type": "code",
   "execution_count": 234,
   "metadata": {},
   "outputs": [],
   "source": [
    "ClassWeight={0:0.75,1:0.5,2:1,3:0.5,4:1}"
   ]
  },
  {
   "cell_type": "code",
   "execution_count": 235,
   "metadata": {},
   "outputs": [
    {
     "name": "stdout",
     "output_type": "stream",
     "text": [
      "Model: \"sequential_47\"\n",
      "_________________________________________________________________\n",
      " Layer (type)                Output Shape              Param #   \n",
      "=================================================================\n",
      " dense_64 (Dense)            (None, 8992)              953152    \n",
      "                                                                 \n",
      " dropout_36 (Dropout)        (None, 8992)              0         \n",
      "                                                                 \n",
      " dense_65 (Dense)            (None, 5)                 44965     \n",
      "                                                                 \n",
      "=================================================================\n",
      "Total params: 998,117\n",
      "Trainable params: 998,117\n",
      "Non-trainable params: 0\n",
      "_________________________________________________________________\n"
     ]
    }
   ],
   "source": [
    "model=tf.keras.models.Sequential()\n",
    "\n",
    "model.add(tf.keras.layers.Dense(len(tokenizer.word_index),activation='sigmoid'))\n",
    "model.add(tf.keras.layers.Dropout(0.5))\n",
    "model.add(tf.keras.layers.Dense(5,activation='sigmoid'))\n",
    "optimizer=tf.keras.optimizers.SGD(learning_rate=0.001)\n",
    "model.compile(optimizer=optimizer,loss='CategoricalCrossentropy',metrics=['accuracy'])\n",
    "model.build(input_shape=(None,mean_length))\n",
    "model.summary()#\n",
    "\n",
    "\n",
    "\n"
   ]
  },
  {
   "attachments": {},
   "cell_type": "markdown",
   "metadata": {},
   "source": [
    "We train the model with 20 Epochs and a validation split of 0.2"
   ]
  },
  {
   "cell_type": "code",
   "execution_count": 236,
   "metadata": {},
   "outputs": [
    {
     "name": "stdout",
     "output_type": "stream",
     "text": [
      "Epoch 1/20\n"
     ]
    }
   ],
   "source": [
    "hystory=model.fit(X_pad,Y,epochs=20,validation_split=0.2,workers=4,class_weight=ClassWeight)"
   ]
  },
  {
   "attachments": {},
   "cell_type": "markdown",
   "metadata": {},
   "source": [
    "plotting the  the loss  and the validation loss of the model"
   ]
  },
  {
   "cell_type": "code",
   "execution_count": null,
   "metadata": {},
   "outputs": [
    {
     "data": {
      "image/png": "[encoded data removed]",
      "text/plain": [
       "<Figure size 640x480 with 1 Axes>"
      ]
     },
     "metadata": {},
     "output_type": "display_data"
    }
   ],
   "source": [
    "plt.plot(hystory.history['loss'])\n",
    "plt.plot(hystory.history['val_loss'])\n",
    "plt.legend(['loss','val_loss'])\n",
    "plt.show()"
   ]
  },
  {
   "attachments": {},
   "cell_type": "markdown",
   "metadata": {},
   "source": [
    "## PREDICTION AND EVALUATION\n"
   ]
  },
  {
   "attachments": {},
   "cell_type": "markdown",
   "metadata": {},
   "source": [
    "we first load and preprocess the test data"
   ]
  },
  {
   "cell_type": "code",
   "execution_count": null,
   "metadata": {},
   "outputs": [
    {
     "name": "stdout",
     "output_type": "stream",
     "text": [
      "(439, 105)\n"
     ]
    }
   ],
   "source": [
    "#Load the test set and convert it to one hot encoding\n",
    "test_set=pd.read_csv('test_set.csv')\n",
    "test_set['Java Developer']=0\n",
    "test_set['Software Engineer']=0\n",
    "test_set['Programmer']=0\n",
    "test_set['Web Developer']=0\n",
    "test_set['System Analyst']=0\n",
    "for i in range(len(test_set)):\n",
    "    test_set.iloc[i,test_set.columns.get_loc(test_set['Label'][i])]=1 \n",
    "X_test=np.array(test_set[[\"Job_offer\"]])\n",
    "X_test=X_test.reshape(X_test.shape[0],)\n",
    "Y_test=np.array(test_set[[\"Java Developer\",\"Software Engineer\",\"Programmer\",\"Web Developer\",\"System Analyst\"]])\n",
    "\n",
    "\n",
    "X_test=tokenizer.texts_to_sequences(X_test)\n",
    "X_test_pad=tf.keras.preprocessing.sequence.pad_sequences(X_test,maxlen=mean_length,padding='post')\n",
    "print(X_test_pad.shape)\n"
   ]
  },
  {
   "attachments": {},
   "cell_type": "markdown",
   "metadata": {},
   "source": [
    "we predict the labels of the test data using the model"
   ]
  },
  {
   "cell_type": "code",
   "execution_count": null,
   "metadata": {},
   "outputs": [
    {
     "name": "stdout",
     "output_type": "stream",
     "text": [
      "14/14 [==============================] - 0s 14ms/step\n"
     ]
    },
    {
     "data": {
      "text/plain": [
       "array([[0.12290296, 0.07702309, 0.16173391, 0.05528696, 0.11274657],\n",
       "       [0.6777986 , 0.05892033, 0.11367499, 0.04633841, 0.13688302],\n",
       "       [0.1955931 , 0.02934039, 0.12496915, 0.0533909 , 0.28573346],\n",
       "       ...,\n",
       "       [0.05184781, 0.0377697 , 0.03464261, 0.9110814 , 0.04095417],\n",
       "       [0.31327334, 0.01481615, 0.15213926, 0.21174407, 0.12166341],\n",
       "       [0.15726097, 0.1257699 , 0.32316244, 0.07687896, 0.16543895]],\n",
       "      dtype=float32)"
      ]
     },
     "execution_count": 225,
     "metadata": {},
     "output_type": "execute_result"
    }
   ],
   "source": [
    "\n",
    "predictions=model.predict(X_test_pad)\n",
    "predictions"
   ]
  },
  {
   "attachments": {},
   "cell_type": "markdown",
   "metadata": {},
   "source": [
    "we convert the labels in one hot encoding"
   ]
  },
  {
   "cell_type": "code",
   "execution_count": null,
   "metadata": {},
   "outputs": [
    {
     "data": {
      "text/plain": [
       "array([[0, 0, 1, 0, 0],\n",
       "       [1, 0, 0, 0, 0],\n",
       "       [0, 0, 0, 0, 1],\n",
       "       ...,\n",
       "       [0, 0, 0, 1, 0],\n",
       "       [1, 0, 0, 0, 0],\n",
       "       [0, 0, 1, 0, 0]])"
      ]
     },
     "execution_count": 226,
     "metadata": {},
     "output_type": "execute_result"
    }
   ],
   "source": [
    "#F1 score on Test set\n",
    "\n",
    "for i in range(len(predictions)):\n",
    "    max_row=max(predictions[i])\n",
    "    for j in range(len(predictions[i])):\n",
    "        if predictions[i][j]==max_row:\n",
    "            predictions[i][j]=1\n",
    "        else:\n",
    "            predictions[i][j]=0\n",
    "prediction=np.array(predictions,dtype=int)\n",
    "prediction\n"
   ]
  },
  {
   "attachments": {},
   "cell_type": "markdown",
   "metadata": {},
   "source": [
    "we evaluate the model using the f1 score"
   ]
  },
  {
   "cell_type": "code",
   "execution_count": null,
   "metadata": {},
   "outputs": [
    {
     "name": "stdout",
     "output_type": "stream",
     "text": [
      "0.48519362186788156\n"
     ]
    }
   ],
   "source": [
    "#F1 score on Test set\n",
    "f1=f1_score(Y_test,prediction,average='micro')\n",
    "print(f1)\n",
    "\n"
   ]
  },
  {
   "attachments": {},
   "cell_type": "markdown",
   "metadata": {},
   "source": [
    "## CONCLUSION\n",
    "we convert the labels from one hot encoding into the original labels and we save the results in a csv file"
   ]
  },
  {
   "cell_type": "code",
   "execution_count": null,
   "metadata": {},
   "outputs": [
    {
     "name": "stderr",
     "output_type": "stream",
     "text": [
      "/tmp/ipykernel_304204/1580526353.py:15: SettingWithCopyWarning: \n",
      "A value is trying to be set on a copy of a slice from a DataFrame\n",
      "\n",
      "See the caveats in the documentation: https://pandas.pydata.org/pandas-docs/stable/user_guide/indexing.html#returning-a-view-versus-a-copy\n",
      "  out.rename(columns={\"Label\": \"Label_true\"}, inplace=True)\n",
      "/tmp/ipykernel_304204/1580526353.py:17: SettingWithCopyWarning: \n",
      "A value is trying to be set on a copy of a slice from a DataFrame.\n",
      "Try using .loc[row_indexer,col_indexer] = value instead\n",
      "\n",
      "See the caveats in the documentation: https://pandas.pydata.org/pandas-docs/stable/user_guide/indexing.html#returning-a-view-versus-a-copy\n",
      "  out['Label_pred'] = label_pred\n"
     ]
    }
   ],
   "source": [
    "one_hot_dictionary={\n",
    "    (1, 0, 0, 0, 0): 'Java Developer',\n",
    "    (0, 1, 0, 0, 0): 'Software Engineer',\n",
    "    (0, 0, 1, 0, 0): 'Programmer',\n",
    "    (0, 0, 0, 1, 0): 'Web Developer',\n",
    "    (0, 0, 0, 0, 1): 'System Analyst',\n",
    "}\n",
    "label_pred = []\n",
    "for i in prediction:\n",
    "    for j in prediction[i]:\n",
    "        p = tuple(j)\n",
    "        label_pred.append(one_hot_dictionary[p])\n",
    "\n",
    "out = test_set[['Job_offer', 'Label']]\n",
    "out.rename(columns={\"Label\": \"Label_true\"}, inplace=True)\n",
    "label_pred = pd.Series(label_pred)\n",
    "out['Label_pred'] = label_pred\n",
    "out.to_csv('out.csv', index=False)"
   ]
  }
 ],
 "metadata": {
  "kernelspec": {
   "display_name": "Python 3",
   "language": "python",
   "name": "python3"
  },
  "language_info": {
   "codemirror_mode": {
    "name": "ipython",
    "version": 3
   },
   "file_extension": ".py",
   "mimetype": "text/x-python",
   "name": "python",
   "nbconvert_exporter": "python",
   "pygments_lexer": "ipython3",
   "version": "3.10.10"
  },
  "orig_nbformat": 4
 },
 "nbformat": 4,
 "nbformat_minor": 2
}
